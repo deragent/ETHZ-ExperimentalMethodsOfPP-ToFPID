{
 "cells": [
  {
   "cell_type": "code",
   "execution_count": null,
   "id": "9e6d292e-6a87-4493-b376-335f450cc137",
   "metadata": {},
   "outputs": [],
   "source": [
    "%matplotlib widget\n",
    "import ROOT\n",
    "\n",
    "import numpy as np\n",
    "import matplotlib as mpl\n",
    "import matplotlib.pyplot as plt\n",
    "import scipy"
   ]
  },
  {
   "cell_type": "code",
   "execution_count": null,
   "id": "f64312a0-3d0b-4f14-a748-3ba6cd54c069",
   "metadata": {},
   "outputs": [],
   "source": [
    "# Constants\n",
    "_cLIGHT = 299792458   # [m/s]\n",
    "_nsTOs = 1e-9         # [s/ns]\n",
    "\n",
    "# Detector Size\n",
    "_L = 2                # [m] (Flight Length)"
   ]
  },
  {
   "cell_type": "markdown",
   "id": "0f7a7d4d-8cf6-44b1-9c7b-0342b3973852",
   "metadata": {},
   "source": [
    "## Load the Data"
   ]
  },
  {
   "cell_type": "code",
   "execution_count": null,
   "id": "b327e345-96db-4274-89fb-b974ed176087",
   "metadata": {},
   "outputs": [],
   "source": [
    "FILENAME = \"./MixedParticles_N100000.root\"\n",
    "\n",
    "rdf = ROOT.RDataFrame('Events', f\"./{FILENAME}\")\n",
    "data = rdf.AsNumpy([\"Time0\", \"Time1\", \"TrueMomentum\", \"TruePID\", \"TrueTime0\", \"TrueTime1\"])\n",
    "\n",
    "dT = (data[\"Time1\"] - data[\"Time0\"])*_nsTOs\n",
    "trueMomentum = data[\"TrueMomentum\"]\n",
    "momentum = trueMomentum # + np.random.normal(scale=0.05, size=len(dT)) # With potentially added momentum uncertainty\n",
    "\n",
    "truePID = data[\"TruePID\"]\n",
    "truedT = (data[\"TrueTime1\"] - data[\"TrueTime0\"])*_nsTOs"
   ]
  },
  {
   "cell_type": "markdown",
   "id": "068d0a71-e533-4343-b763-fc2dd6b1e069",
   "metadata": {},
   "source": [
    "### Initial Filtering (data cuts)"
   ]
  },
  {
   "cell_type": "code",
   "execution_count": null,
   "id": "bea2039f-7c8b-4439-8be2-bf9c81ec3b1b",
   "metadata": {},
   "outputs": [],
   "source": [
    "# Remove samples with negative flight time\n",
    "select_dT0 = dT > 0\n",
    "\n",
    "dT = dT[select_dT0]\n",
    "momentum = momentum[select_dT0]\n",
    "\n",
    "trueMomentum = trueMomentum[select_dT0]\n",
    "truePID = truePID[select_dT0] \n",
    "truedT = truedT[select_dT0]"
   ]
  },
  {
   "cell_type": "markdown",
   "id": "dc4eb885-31fa-44e1-8957-4580b7feccc8",
   "metadata": {},
   "source": [
    "## Calculate the Particle Speed"
   ]
  },
  {
   "cell_type": "code",
   "execution_count": null,
   "id": "3ea09ccf-36c7-4983-86e9-ebca04e06db4",
   "metadata": {},
   "outputs": [],
   "source": [
    "beta = _L/dT/_cLIGHT"
   ]
  },
  {
   "cell_type": "markdown",
   "id": "bcbf4657-372f-477c-bfc5-209b976fc6da",
   "metadata": {},
   "source": [
    "# Particle Identification\n",
    "\n",
    "## Overview Plot"
   ]
  },
  {
   "cell_type": "markdown",
   "id": "402d3add-bcfe-49d6-86d4-1d936684a11f",
   "metadata": {},
   "source": [
    "**Can you attribute the traces to the five simulated particles: e-, mu-, pi+, K+ and p?**\n",
    "\n",
    "**What is the property which mainly distinguishes them?**"
   ]
  },
  {
   "cell_type": "code",
   "execution_count": null,
   "id": "c18ac4fa-ddbd-411d-aca0-8e1e5ec92117",
   "metadata": {},
   "outputs": [],
   "source": [
    "fig, (axlin, axlog) = plt.subplots(1, 2)\n",
    "fig.set_figwidth(10)\n",
    "\n",
    "# Linear Scale Plot\n",
    "axlin.hist2d(momentum, beta, 300)\n",
    "axlin.set_xlabel('Momentum [GeV/c]')\n",
    "axlin.set_ylabel('beta [-]')\n",
    "axlin.set_title('Linear Color Scale')\n",
    "\n",
    "# Log Scale Plot\n",
    "axlog.hist2d(momentum, beta, 300, norm=mpl.colors.LogNorm())\n",
    "axlog.set_xlabel('Momentum [GeV/c]')\n",
    "axlog.set_ylabel('beta [-]')\n",
    "axlog.set_title('Log Color Scale')\n",
    "\n",
    "plt.show()"
   ]
  },
  {
   "cell_type": "markdown",
   "id": "77a22797-77dd-4297-8fb2-e95180453a7b",
   "metadata": {},
   "source": [
    "## Mass Reconstruction"
   ]
  },
  {
   "cell_type": "markdown",
   "id": "45f33a21-d6a7-412e-8ec4-399d49024e4c",
   "metadata": {},
   "source": [
    "### Filter the undistinguishable region (beta ~ 1)"
   ]
  },
  {
   "cell_type": "code",
   "execution_count": null,
   "id": "9b2ec0c9-53c4-4da9-a3a7-243297b9a358",
   "metadata": {},
   "outputs": [],
   "source": [
    "select_beta = beta < 0.92\n",
    "\n",
    "select_mass = select_beta\n",
    "\n",
    "beta_mass = beta[select_mass]\n",
    "momentum_mass = momentum[select_mass]"
   ]
  },
  {
   "cell_type": "markdown",
   "id": "61e9156a-eeb2-4b0c-92cc-31c6f883d756",
   "metadata": {},
   "source": [
    "### Estimate the particle masses"
   ]
  },
  {
   "cell_type": "code",
   "execution_count": null,
   "id": "5c4d1d14-669b-43e7-b53a-f0909526e81d",
   "metadata": {},
   "outputs": [],
   "source": [
    "gamma_mass = 1/np.sqrt(1 - beta_mass**2)\n",
    "\n",
    "m0 = momentum_mass / gamma_mass / beta_mass\n",
    "\n",
    "fig = plt.figure()\n",
    "fig.set_figwidth(10)\n",
    "plt.hist(m0, 500, range=(0, 1.5))\n",
    "plt.xlabel('Estimated Mass [GeV/c²]')\n",
    "plt.ylabel('Count [-]')\n",
    "plt.show()"
   ]
  },
  {
   "cell_type": "markdown",
   "id": "b2d2420b-2c9e-4e20-9a75-4228091c5c19",
   "metadata": {},
   "source": [
    "### Fit the Mass Peaks"
   ]
  },
  {
   "cell_type": "code",
   "execution_count": null,
   "id": "8bbf5231-1146-4ce1-832d-ef22e54b0395",
   "metadata": {},
   "outputs": [],
   "source": [
    "def gaussPeak(m, count, m_avg, m_sig):\n",
    "    peak = scipy.stats.norm.pdf(m_avg, m_avg, m_sig)\n",
    "    \n",
    "    return scipy.stats.norm.pdf(m, m_avg, m_sig)/peak*count\n",
    "\n",
    "def fitMass(mass_centers, counts, lower, upper):\n",
    "    select_range = (mass_centers > lower) & (mass_centers < upper)\n",
    "    \n",
    "    mass_centers = mass_centers[select_range]\n",
    "    counts = counts[select_range]\n",
    "    \n",
    "    p0 = (np.max(counts), mass_centers[np.argmax(counts)], 0.1)\n",
    "\n",
    "    popt, pcov = scipy.optimize.curve_fit(gaussPeak, mass_centers, counts, p0=p0)\n",
    "\n",
    "    return popt\n",
    "\n",
    "def plotPeak(ax, lower, upper, popt, label=None):\n",
    "    masses = np.linspace(lower, upper, 100)\n",
    "    ax.plot(masses, gaussPeak(masses, *popt), label=label)\n",
    "\n",
    "fig = plt.figure()\n",
    "counts, edges, _ = plt.hist(m0, 500, range=(0, 1.5))\n",
    "mass_centers = (edges[:-1] + edges[1:])/2\n",
    "\n",
    "popt = fitMass(mass_centers, counts, 0.92, 0.98)\n",
    "\n",
    "plotPeak(fig.gca(), 0.75, 1.2, popt, 'Proton')\n",
    "\n",
    "\n",
    "fig.set_figwidth(10)\n",
    "plt.xlabel('Estimated Mass [GeV/c²]')\n",
    "plt.ylabel('Count [-]')\n",
    "plt.yscale('log')\n",
    "plt.ylim(10, 1000)\n",
    "plt.show()"
   ]
  },
  {
   "cell_type": "markdown",
   "id": "2cf1fbda-a857-4cdc-9c2d-82d04220c9fe",
   "metadata": {},
   "source": [
    "**Why does the mass not follow a normal distribution?**"
   ]
  },
  {
   "cell_type": "markdown",
   "id": "fc049031-dca2-4653-b6c8-f821bfec3980",
   "metadata": {},
   "source": [
    "## Mass Distributions with an Ideal Detector"
   ]
  },
  {
   "cell_type": "markdown",
   "id": "cfbf20a2-4c6c-4791-8c8b-601e8e499717",
   "metadata": {},
   "source": [
    "### Calculate beta and mass based on ideal / true values"
   ]
  },
  {
   "cell_type": "code",
   "execution_count": null,
   "id": "2efa3576-b446-4cbc-a8f5-fd6f698dacb1",
   "metadata": {},
   "outputs": [],
   "source": [
    "trueBeta = _L/truedT/_cLIGHT\n",
    "\n",
    "select_beta = trueBeta < 0.99\n",
    "\n",
    "truePID = truePID[select_beta]\n",
    "trueBeta = trueBeta[select_beta]\n",
    "trueMomentum = trueMomentum[select_beta]"
   ]
  },
  {
   "cell_type": "code",
   "execution_count": null,
   "id": "bc6e999f-f918-45cd-b214-f7a7bb670595",
   "metadata": {},
   "outputs": [],
   "source": [
    "trueGamma = 1/np.sqrt(1 - trueBeta**2)\n",
    "trueM0 = trueMomentum / trueGamma / trueBeta"
   ]
  },
  {
   "cell_type": "code",
   "execution_count": null,
   "id": "429ad17d-6af2-4f8e-b60d-36754b1193e0",
   "metadata": {},
   "outputs": [],
   "source": [
    "plt.figure()\n",
    "\n",
    "plt.hist(trueM0, bins=1000, range=(0.,2))\n",
    "\n",
    "plt.xlabel('Estimated Mass [GeV/c²]')\n",
    "plt.ylabel('Count [-]')\n",
    "plt.yscale('log')\n",
    "plt.show()"
   ]
  },
  {
   "cell_type": "markdown",
   "id": "31fbd836-19c3-4bfa-b44f-42f19bddd0d6",
   "metadata": {},
   "source": [
    "### Plot separated by Particle Type"
   ]
  },
  {
   "cell_type": "code",
   "execution_count": null,
   "id": "0a3822f6-d6d7-4274-bbc9-56d081365252",
   "metadata": {},
   "outputs": [],
   "source": [
    "# Plot all particles as separate histograms\n",
    "uniquePID = np.unique(truePID)\n",
    "plt.figure()\n",
    "for p in uniquePID:\n",
    "    sel = (truePID == p)\n",
    "    plt.hist(trueM0[sel], bins=1000, range=(0.,2), histtype='step', label=p)\n",
    "\n",
    "plt.legend()\n",
    "plt.yscale('log')\n",
    "plt.show()"
   ]
  },
  {
   "cell_type": "markdown",
   "id": "737d08b6-5cb3-40f7-80cb-d09aec2a0ea8",
   "metadata": {},
   "source": [
    "**What do these numbers mean in the legend?**\n",
    "\n",
    "**Why does the proton (2212) have tail towards higher masses?**\n",
    "\n",
    "**Why does Kaon (K+) have a tail towards lower masses?** "
   ]
  }
 ],
 "metadata": {
  "kernelspec": {
   "display_name": "Neutrino Lecture 2024",
   "language": "python",
   "name": "neutrino_lecture"
  },
  "language_info": {
   "codemirror_mode": {
    "name": "ipython",
    "version": 3
   },
   "file_extension": ".py",
   "mimetype": "text/x-python",
   "name": "python",
   "nbconvert_exporter": "python",
   "pygments_lexer": "ipython3",
   "version": "3.11.2"
  }
 },
 "nbformat": 4,
 "nbformat_minor": 5
}
